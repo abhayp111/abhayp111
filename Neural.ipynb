{
 "cells": [
  {
   "cell_type": "code",
   "execution_count": 2,
   "metadata": {},
   "outputs": [],
   "source": [
    "import numpy as np\n",
    "\n",
    "# XOR data\n",
    "X = np.array([[0, 0, 1, 1], \n",
    "              [0, 1, 0, 1]])  # shape: (2, 4)\n",
    "Y = np.array([[0, 1, 1, 0]])  # shape: (1, 4)\n"
   ]
  },
  {
   "cell_type": "code",
   "execution_count": 7,
   "metadata": {},
   "outputs": [],
   "source": [
    "def tanh(z):\n",
    "    return np.tanh(z)\n",
    "\n",
    "def tanh_derivative(a):\n",
    "    return 1 - np.square(a)"
   ]
  },
  {
   "cell_type": "code",
   "execution_count": 8,
   "metadata": {},
   "outputs": [
    {
     "name": "stderr",
     "output_type": "stream",
     "text": [
      "/var/folders/8y/pr6d07_x5rdgsfmfspvr1d300000gn/T/ipykernel_38125/3852661985.py:30: RuntimeWarning: divide by zero encountered in log\n",
      "  return -np.sum(Y * np.log(A2) + (1 - Y) * np.log(1 - A2)) / m\n",
      "/var/folders/8y/pr6d07_x5rdgsfmfspvr1d300000gn/T/ipykernel_38125/3852661985.py:30: RuntimeWarning: invalid value encountered in multiply\n",
      "  return -np.sum(Y * np.log(A2) + (1 - Y) * np.log(1 - A2)) / m\n",
      "/var/folders/8y/pr6d07_x5rdgsfmfspvr1d300000gn/T/ipykernel_38125/3852661985.py:30: RuntimeWarning: invalid value encountered in log\n",
      "  return -np.sum(Y * np.log(A2) + (1 - Y) * np.log(1 - A2)) / m\n"
     ]
    },
    {
     "name": "stdout",
     "output_type": "stream",
     "text": [
      "Iteration 0: Loss = nan\n",
      "Iteration 1000: Loss = 0.3806\n",
      "Iteration 2000: Loss = 0.3621\n",
      "Iteration 3000: Loss = 0.3564\n",
      "Iteration 4000: Loss = 0.3537\n",
      "Iteration 5000: Loss = 0.3521\n",
      "Iteration 6000: Loss = 0.3511\n",
      "Iteration 7000: Loss = 0.3504\n",
      "Iteration 8000: Loss = 0.3499\n",
      "Iteration 9000: Loss = 0.3495\n",
      "Predictions: [[0 0 1 1]]\n"
     ]
    }
   ],
   "source": [
    "# Activation function\n",
    "def sigmoid(z):\n",
    "    return 1 / (1 + np.exp(-z))\n",
    "\n",
    "def sigmoid_derivative(a):\n",
    "    return a * (1 - a)\n",
    "\n",
    "# Initialize parameters\n",
    "def init_params():\n",
    "    np.random.seed(1)\n",
    "    W1 = np.random.randn(2, 2)  # 2 inputs → 2 hidden\n",
    "    b1 = np.zeros((2, 1))\n",
    "    W2 = np.random.randn(1, 2)  # 2 hidden → 1 output\n",
    "    b2 = np.zeros((1, 1))\n",
    "    return W1, b1, W2, b2\n",
    "\n",
    "# Forward propagation\n",
    "def forward(X, W1, b1, W2, b2):\n",
    "    Z1 = np.dot(W1, X) + b1\n",
    "    A1 = tanh(Z1)\n",
    "\n",
    "    Z2 = np.dot(W2, A1) + b2\n",
    "    A2 = tanh(Z2)\n",
    "    \n",
    "    return A1, A2\n",
    "\n",
    "# Compute loss\n",
    "def compute_loss(A2, Y):\n",
    "    m = Y.shape[1]\n",
    "    return -np.sum(Y * np.log(A2) + (1 - Y) * np.log(1 - A2)) / m\n",
    "\n",
    "# Backpropagation\n",
    "def backward(X, Y, A1, A2, W2):\n",
    "    m = X.shape[1]\n",
    "    \n",
    "    dZ2 = A2 - Y\n",
    "    dW2 = (1 / m) * np.dot(dZ2, A1.T)\n",
    "    db2 = (1 / m) * np.sum(dZ2, axis=1, keepdims=True)\n",
    "    \n",
    "    dA1 = np.dot(W2.T, dZ2)\n",
    "    dZ1 = dA1 * tanh_derivative(A1)\n",
    "    dW1 = (1 / m) * np.dot(dZ1, X.T)\n",
    "    db1 = (1 / m) * np.sum(dZ1, axis=1, keepdims=True)\n",
    "    \n",
    "    return dW1, db1, dW2, db2\n",
    "\n",
    "# Training loop\n",
    "def train(X, Y, iterations=10000, learning_rate=0.1):\n",
    "    W1, b1, W2, b2 = init_params()\n",
    "    \n",
    "    for i in range(iterations):\n",
    "        A1, A2 = forward(X, W1, b1, W2, b2)\n",
    "        loss = compute_loss(A2, Y)\n",
    "\n",
    "        dW1, db1, dW2, db2 = backward(X, Y, A1, A2, W2)\n",
    "        \n",
    "        # Gradient descent\n",
    "        W1 -= learning_rate * dW1\n",
    "        b1 -= learning_rate * db1\n",
    "        W2 -= learning_rate * dW2\n",
    "        b2 -= learning_rate * db2\n",
    "\n",
    "        if i % 1000 == 0:\n",
    "            print(f\"Iteration {i}: Loss = {loss:.4f}\")\n",
    "    \n",
    "    return W1, b1, W2, b2\n",
    "\n",
    "# Predict\n",
    "def predict(X, W1, b1, W2, b2):\n",
    "    _, A2 = forward(X, W1, b1, W2, b2)\n",
    "    return (A2 > 0.5).astype(int)\n",
    "\n",
    "# Train\n",
    "W1, b1, W2, b2 = train(X, Y)\n",
    "\n",
    "# Predict on XOR\n",
    "predictions = predict(X, W1, b1, W2, b2)\n",
    "print(\"Predictions:\", predictions)\n"
   ]
  },
  {
   "cell_type": "code",
   "execution_count": 4,
   "metadata": {},
   "outputs": [],
   "source": [
    "\n"
   ]
  },
  {
   "cell_type": "code",
   "execution_count": null,
   "metadata": {},
   "outputs": [],
   "source": []
  }
 ],
 "metadata": {
  "kernelspec": {
   "display_name": "MysteryMuse",
   "language": "python",
   "name": "python3"
  },
  "language_info": {
   "codemirror_mode": {
    "name": "ipython",
    "version": 3
   },
   "file_extension": ".py",
   "mimetype": "text/x-python",
   "name": "python",
   "nbconvert_exporter": "python",
   "pygments_lexer": "ipython3",
   "version": "3.13.4"
  }
 },
 "nbformat": 4,
 "nbformat_minor": 2
}
