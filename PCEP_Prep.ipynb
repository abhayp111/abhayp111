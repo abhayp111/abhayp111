{
 "cells": [
  {
   "cell_type": "markdown",
   "id": "0075e0a6-dd07-4ae6-8d4a-a08ca51f1bcb",
   "metadata": {},
   "source": [
    "# List"
   ]
  },
  {
   "cell_type": "code",
   "execution_count": 80,
   "id": "91009bff-d675-4b11-ac07-8d979e2d766b",
   "metadata": {},
   "outputs": [],
   "source": [
    "my_list=[8,7,1,2,5,6,9]"
   ]
  },
  {
   "cell_type": "code",
   "execution_count": 51,
   "id": "baa804d5-8de4-49f5-90d7-24a728de9a38",
   "metadata": {},
   "outputs": [
    {
     "data": {
      "text/plain": [
       "list"
      ]
     },
     "execution_count": 51,
     "metadata": {},
     "output_type": "execute_result"
    }
   ],
   "source": [
    "type(my_list)"
   ]
  },
  {
   "cell_type": "code",
   "execution_count": 5,
   "id": "874c3f44-cd63-4e28-bab1-912663173f43",
   "metadata": {},
   "outputs": [
    {
     "data": {
      "text/plain": [
       "[1, 2, 5, 6, 9, 'ABhay']"
      ]
     },
     "execution_count": 5,
     "metadata": {},
     "output_type": "execute_result"
    }
   ],
   "source": [
    "my_list"
   ]
  },
  {
   "cell_type": "code",
   "execution_count": 6,
   "id": "10ca83b2-c2dd-40ff-8862-15afec8c1a85",
   "metadata": {},
   "outputs": [
    {
     "name": "stdout",
     "output_type": "stream",
     "text": [
      "[1, 2, 5, 6, 9, 'ABhay']\n"
     ]
    }
   ],
   "source": [
    "print(my_list)"
   ]
  },
  {
   "cell_type": "markdown",
   "id": "46f07664-68ee-4220-86fa-ed0774da3f90",
   "metadata": {},
   "source": [
    "## Access elements of list"
   ]
  },
  {
   "cell_type": "code",
   "execution_count": 7,
   "id": "5dce6771-adbe-48c5-a78c-41d998bc0f0e",
   "metadata": {},
   "outputs": [
    {
     "data": {
      "text/plain": [
       "1"
      ]
     },
     "execution_count": 7,
     "metadata": {},
     "output_type": "execute_result"
    }
   ],
   "source": [
    "my_list[0]"
   ]
  },
  {
   "cell_type": "code",
   "execution_count": 8,
   "id": "ee235f47-79eb-4e2d-a1ef-8deefc988a9b",
   "metadata": {},
   "outputs": [
    {
     "data": {
      "text/plain": [
       "'ABhay'"
      ]
     },
     "execution_count": 8,
     "metadata": {},
     "output_type": "execute_result"
    }
   ],
   "source": [
    "my_list[-1]"
   ]
  },
  {
   "cell_type": "code",
   "execution_count": 12,
   "id": "add9c93c-374c-4808-adc1-6532a42237f7",
   "metadata": {},
   "outputs": [
    {
     "data": {
      "text/plain": [
       "int"
      ]
     },
     "execution_count": 12,
     "metadata": {},
     "output_type": "execute_result"
    }
   ],
   "source": [
    "type(my_list[-2])"
   ]
  },
  {
   "cell_type": "code",
   "execution_count": 11,
   "id": "ea9c9a06-a0ed-4b25-89de-43db7d31a874",
   "metadata": {},
   "outputs": [
    {
     "data": {
      "text/plain": [
       "list"
      ]
     },
     "execution_count": 11,
     "metadata": {},
     "output_type": "execute_result"
    }
   ],
   "source": [
    "type(my_list[:1])"
   ]
  },
  {
   "cell_type": "code",
   "execution_count": 17,
   "id": "71218a7d-6a8d-4700-84e4-0833d22fe118",
   "metadata": {},
   "outputs": [
    {
     "data": {
      "text/plain": [
       "[5, 6, 9, 'ABhay']"
      ]
     },
     "execution_count": 17,
     "metadata": {},
     "output_type": "execute_result"
    }
   ],
   "source": [
    "my_list[2:]"
   ]
  },
  {
   "cell_type": "markdown",
   "id": "b3354f14-9197-4c08-9316-387a1eccc9f5",
   "metadata": {},
   "source": [
    "## Modify elements of list"
   ]
  },
  {
   "cell_type": "code",
   "execution_count": 19,
   "id": "90e9a7d4-716e-4f08-a5c4-478e042841fc",
   "metadata": {},
   "outputs": [],
   "source": [
    "my_list[2]=25"
   ]
  },
  {
   "cell_type": "code",
   "execution_count": 20,
   "id": "3ac82378-e919-4af0-b34e-e087e92e2ffc",
   "metadata": {},
   "outputs": [
    {
     "data": {
      "text/plain": [
       "[1, 2, 25, 6, 9, 'ABhay']"
      ]
     },
     "execution_count": 20,
     "metadata": {},
     "output_type": "execute_result"
    }
   ],
   "source": [
    "my_list"
   ]
  },
  {
   "cell_type": "code",
   "execution_count": 34,
   "id": "e88ab28b-7a0a-40da-b2a3-669e21d5b519",
   "metadata": {},
   "outputs": [
    {
     "name": "stdout",
     "output_type": "stream",
     "text": [
      "Error\n",
      "Error\n",
      "Error\n",
      "Error\n",
      "Error\n",
      "5\n",
      "[1, 2, 25, 6, 9, 'Happy']\n"
     ]
    }
   ],
   "source": [
    "for i in range(len(my_list)):\n",
    "    if my_list[i]=='ABhay':\n",
    "        \n",
    "        my_list[i]='Happy'\n",
    "        print(i)\n",
    "        print(my_list)\n",
    "    else:\n",
    "        print(\"Error\")\n",
    "\n",
    "    "
   ]
  },
  {
   "cell_type": "code",
   "execution_count": 35,
   "id": "3a64a21c-d762-406c-87d0-e02097613d7f",
   "metadata": {},
   "outputs": [
    {
     "name": "stdout",
     "output_type": "stream",
     "text": [
      "6\n"
     ]
    }
   ],
   "source": [
    "print(len(my_list))"
   ]
  },
  {
   "cell_type": "code",
   "execution_count": 36,
   "id": "ed2f4655-89fa-472e-806e-ebd75af7cf39",
   "metadata": {},
   "outputs": [
    {
     "data": {
      "text/plain": [
       "[1, 2, 25, 6, 9, 'Happy']"
      ]
     },
     "execution_count": 36,
     "metadata": {},
     "output_type": "execute_result"
    }
   ],
   "source": [
    "my_list"
   ]
  },
  {
   "cell_type": "markdown",
   "id": "bb8e4aff-a738-4c90-ab54-413ac6d526cc",
   "metadata": {},
   "source": [
    "## Append and Remove elements in list"
   ]
  },
  {
   "cell_type": "code",
   "execution_count": 40,
   "id": "3c261a2c-3652-45fa-b515-221b6ad006ff",
   "metadata": {},
   "outputs": [],
   "source": [
    "my_list.append(50)"
   ]
  },
  {
   "cell_type": "code",
   "execution_count": 41,
   "id": "b7b66fc4-4c3c-4749-8c8e-200f86555f1d",
   "metadata": {},
   "outputs": [
    {
     "data": {
      "text/plain": [
       "[1, 2, 25, 6, 9, 'Happy', 50, 50]"
      ]
     },
     "execution_count": 41,
     "metadata": {},
     "output_type": "execute_result"
    }
   ],
   "source": [
    "my_list"
   ]
  },
  {
   "cell_type": "code",
   "execution_count": 42,
   "id": "915a1e95-56ce-48d3-bdc2-6fd4b9e8d665",
   "metadata": {},
   "outputs": [],
   "source": [
    "my_list.remove(50)"
   ]
  },
  {
   "cell_type": "code",
   "execution_count": 45,
   "id": "583166fb-ddc4-4d03-abde-b76d179c0aee",
   "metadata": {},
   "outputs": [
    {
     "data": {
      "text/plain": [
       "[1, 2, 25, 6, 9, 'Happy']"
      ]
     },
     "execution_count": 45,
     "metadata": {},
     "output_type": "execute_result"
    }
   ],
   "source": [
    "my_list"
   ]
  },
  {
   "cell_type": "code",
   "execution_count": 44,
   "id": "efb60886-2a36-467e-ac56-3b1012d01733",
   "metadata": {},
   "outputs": [],
   "source": [
    "my_list.remove(50)"
   ]
  },
  {
   "cell_type": "code",
   "execution_count": 48,
   "id": "eddd2234-e7a3-4c84-a09a-81f2793adfd4",
   "metadata": {},
   "outputs": [],
   "source": [
    "my_list.clear()"
   ]
  },
  {
   "cell_type": "code",
   "execution_count": 49,
   "id": "0fcf6cd0-e0cc-4fbc-89cc-ea49c36c5bd7",
   "metadata": {},
   "outputs": [
    {
     "data": {
      "text/plain": [
       "[]"
      ]
     },
     "execution_count": 49,
     "metadata": {},
     "output_type": "execute_result"
    }
   ],
   "source": [
    "my_list"
   ]
  },
  {
   "cell_type": "code",
   "execution_count": 52,
   "id": "4f54ca71-ade8-42c6-a3b2-0db82754537a",
   "metadata": {},
   "outputs": [],
   "source": [
    "index=my_list.index(9)"
   ]
  },
  {
   "cell_type": "code",
   "execution_count": 53,
   "id": "440eaa45-d7bc-4f5c-b100-a4c10e31dcfb",
   "metadata": {},
   "outputs": [
    {
     "data": {
      "text/plain": [
       "4"
      ]
     },
     "execution_count": 53,
     "metadata": {},
     "output_type": "execute_result"
    }
   ],
   "source": [
    "index"
   ]
  },
  {
   "cell_type": "code",
   "execution_count": 62,
   "id": "a7e60ed0-d6af-4947-ae98-8959d963b4f3",
   "metadata": {},
   "outputs": [],
   "source": [
    "my_list.sort(reverse=True)"
   ]
  },
  {
   "cell_type": "code",
   "execution_count": 61,
   "id": "2a23813e-b5b2-4002-af00-9d43c9dacd4d",
   "metadata": {},
   "outputs": [
    {
     "data": {
      "text/plain": [
       "[1, 2, 5, 6, 7, 8, 9]"
      ]
     },
     "execution_count": 61,
     "metadata": {},
     "output_type": "execute_result"
    }
   ],
   "source": [
    "my_list"
   ]
  },
  {
   "cell_type": "code",
   "execution_count": 63,
   "id": "35bbcef2-5dda-4479-91af-1f5045a5e87d",
   "metadata": {},
   "outputs": [
    {
     "data": {
      "text/plain": [
       "[9, 8, 7, 6, 5, 2, 1]"
      ]
     },
     "execution_count": 63,
     "metadata": {},
     "output_type": "execute_result"
    }
   ],
   "source": [
    "my_list"
   ]
  },
  {
   "cell_type": "code",
   "execution_count": 81,
   "id": "b1900be0-3862-43db-91c1-c494b248fa66",
   "metadata": {},
   "outputs": [],
   "source": [
    "my_list_sq=[x**2 for x in my_list]"
   ]
  },
  {
   "cell_type": "code",
   "execution_count": 65,
   "id": "b550ecaf-784a-4eea-b84e-f243a88e7362",
   "metadata": {},
   "outputs": [
    {
     "data": {
      "text/plain": [
       "[81, 64, 49, 36, 25, 4, 1]"
      ]
     },
     "execution_count": 65,
     "metadata": {},
     "output_type": "execute_result"
    }
   ],
   "source": [
    "my_list_sq"
   ]
  },
  {
   "cell_type": "code",
   "execution_count": 66,
   "id": "f4b78e39-c073-46db-8c05-ad969698eb80",
   "metadata": {},
   "outputs": [],
   "source": [
    "my_list_lam=list(map(lambda x:x**2,my_list))"
   ]
  },
  {
   "cell_type": "code",
   "execution_count": 67,
   "id": "6ecc1e01-8275-403b-b42c-f37fafcef8ee",
   "metadata": {},
   "outputs": [
    {
     "data": {
      "text/plain": [
       "[81, 64, 49, 36, 25, 4, 1]"
      ]
     },
     "execution_count": 67,
     "metadata": {},
     "output_type": "execute_result"
    }
   ],
   "source": [
    "my_list_lam"
   ]
  },
  {
   "cell_type": "code",
   "execution_count": 74,
   "id": "ff82c0f1-025c-4142-90d1-d084e213c0d8",
   "metadata": {},
   "outputs": [],
   "source": [
    "my_list=lambda x:x**2,my_list"
   ]
  },
  {
   "cell_type": "code",
   "execution_count": 75,
   "id": "a78009e4-e972-417f-aa74-cc557f5d08bd",
   "metadata": {},
   "outputs": [
    {
     "name": "stdout",
     "output_type": "stream",
     "text": [
      "(<function <lambda> at 0x000002C290B584A0>, [8, 7, 1, 2, 5, 6, 9])\n"
     ]
    }
   ],
   "source": [
    "print(my_list)"
   ]
  },
  {
   "cell_type": "code",
   "execution_count": 76,
   "id": "425cad31-7358-4d0e-af04-ba2de2f84f1b",
   "metadata": {},
   "outputs": [],
   "source": [
    "my_list_lam=map(lambda x:x**2,my_list)"
   ]
  },
  {
   "cell_type": "code",
   "execution_count": 78,
   "id": "fd9b5e42-cd23-4ffa-bb70-9c082d28fcf0",
   "metadata": {},
   "outputs": [
    {
     "name": "stdout",
     "output_type": "stream",
     "text": [
      "<map object at 0x000002C2908FFD90>\n"
     ]
    }
   ],
   "source": [
    "print(my_list_lam)"
   ]
  },
  {
   "cell_type": "code",
   "execution_count": 82,
   "id": "fc236d80-a4d6-496a-8fc6-3ac405711eb5",
   "metadata": {},
   "outputs": [],
   "source": [
    "new_list=my_list+my_list_sq"
   ]
  },
  {
   "cell_type": "code",
   "execution_count": 83,
   "id": "ec12f8c8-4ee6-48b1-96d5-e46d5a05014b",
   "metadata": {},
   "outputs": [
    {
     "data": {
      "text/plain": [
       "[8, 7, 1, 2, 5, 6, 9, 64, 49, 1, 4, 25, 36, 81]"
      ]
     },
     "execution_count": 83,
     "metadata": {},
     "output_type": "execute_result"
    }
   ],
   "source": [
    "new_list"
   ]
  },
  {
   "cell_type": "code",
   "execution_count": 84,
   "id": "ed5128ee-880a-46ee-ab06-2903a2f04b5b",
   "metadata": {},
   "outputs": [],
   "source": [
    "new_list.sort(reverse=True)"
   ]
  },
  {
   "cell_type": "code",
   "execution_count": 85,
   "id": "d30c8e97-e6df-4bb6-b1a6-50e62043261a",
   "metadata": {},
   "outputs": [
    {
     "data": {
      "text/plain": [
       "[81, 64, 49, 36, 25, 9, 8, 7, 6, 5, 4, 2, 1, 1]"
      ]
     },
     "execution_count": 85,
     "metadata": {},
     "output_type": "execute_result"
    }
   ],
   "source": [
    "new_list"
   ]
  },
  {
   "cell_type": "code",
   "execution_count": 86,
   "id": "5a1e0a8a-0cf4-4bcc-8bc8-7f3eaedade7b",
   "metadata": {},
   "outputs": [],
   "source": [
    "new_list.remove(1)"
   ]
  },
  {
   "cell_type": "code",
   "execution_count": 87,
   "id": "2a5e1ad5-bf73-4493-820f-f8e7c60d196a",
   "metadata": {},
   "outputs": [
    {
     "data": {
      "text/plain": [
       "[81, 64, 49, 36, 25, 9, 8, 7, 6, 5, 4, 2, 1]"
      ]
     },
     "execution_count": 87,
     "metadata": {},
     "output_type": "execute_result"
    }
   ],
   "source": [
    "new_list"
   ]
  },
  {
   "cell_type": "code",
   "execution_count": 88,
   "id": "cc090a00-c4f9-48f8-b984-359f1e915db5",
   "metadata": {},
   "outputs": [
    {
     "data": {
      "text/plain": [
       "[81, 64, 49, 36, 25, 9, 8, 7, 6, 5, 4, 2, 1]"
      ]
     },
     "execution_count": 88,
     "metadata": {},
     "output_type": "execute_result"
    }
   ],
   "source": [
    "new_list"
   ]
  },
  {
   "cell_type": "code",
   "execution_count": 89,
   "id": "be0f1062-05ed-41b2-898c-4143e13dbc84",
   "metadata": {},
   "outputs": [],
   "source": [
    "new_list.append(1)"
   ]
  },
  {
   "cell_type": "code",
   "execution_count": 90,
   "id": "aff60410-1246-4619-a1a4-fa70b0b2d72d",
   "metadata": {},
   "outputs": [
    {
     "data": {
      "text/plain": [
       "[81, 64, 49, 36, 25, 9, 8, 7, 6, 5, 4, 2, 1, 1]"
      ]
     },
     "execution_count": 90,
     "metadata": {},
     "output_type": "execute_result"
    }
   ],
   "source": [
    "new_list"
   ]
  },
  {
   "cell_type": "code",
   "execution_count": 91,
   "id": "bf1ccd65-12c6-41cc-a799-692bd34cff48",
   "metadata": {},
   "outputs": [
    {
     "name": "stdout",
     "output_type": "stream",
     "text": [
      "[81, 64, 49, 36, 25, 9, 8, 7, 6, 5, 4, 2]\n"
     ]
    }
   ],
   "source": [
    "while 1 in new_list:\n",
    "    new_list.remove(1)\n",
    "\n",
    "print(new_list)"
   ]
  },
  {
   "cell_type": "code",
   "execution_count": 110,
   "id": "9175f546-be57-4b3a-833f-ef4edd579867",
   "metadata": {},
   "outputs": [
    {
     "data": {
      "text/plain": [
       "[8, 7, 1, 2, 5, 6, 9]"
      ]
     },
     "execution_count": 110,
     "metadata": {},
     "output_type": "execute_result"
    }
   ],
   "source": [
    "my_list"
   ]
  },
  {
   "cell_type": "code",
   "execution_count": 123,
   "id": "58a18d51-18c3-4e6a-a848-e2cb8aabc5e3",
   "metadata": {},
   "outputs": [
    {
     "data": {
      "text/plain": [
       "[9, 6, 5, 2, 1, 7, 8]"
      ]
     },
     "execution_count": 123,
     "metadata": {},
     "output_type": "execute_result"
    }
   ],
   "source": [
    "my_list[::-1]"
   ]
  },
  {
   "cell_type": "markdown",
   "id": "f39caa1d-ba95-460a-bf95-fcb3ca366027",
   "metadata": {},
   "source": [
    "# Dict"
   ]
  },
  {
   "cell_type": "code",
   "execution_count": 93,
   "id": "8296e4f7-1de2-4150-bfca-261f20b84b5d",
   "metadata": {},
   "outputs": [],
   "source": [
    "my_Dict={'name':'Abhay','Age':29,'Address':'INDIA'}"
   ]
  },
  {
   "cell_type": "code",
   "execution_count": 94,
   "id": "94602158-10ee-405e-998d-2711325c8169",
   "metadata": {},
   "outputs": [
    {
     "data": {
      "text/plain": [
       "{'name': 'Abhay', 'Age': 29, 'Address': 'INDIA'}"
      ]
     },
     "execution_count": 94,
     "metadata": {},
     "output_type": "execute_result"
    }
   ],
   "source": [
    "my_Dict"
   ]
  },
  {
   "cell_type": "code",
   "execution_count": 96,
   "id": "d4429488-c992-4b24-9fca-4444770c8049",
   "metadata": {},
   "outputs": [
    {
     "name": "stdout",
     "output_type": "stream",
     "text": [
      "Abhay\n"
     ]
    }
   ],
   "source": [
    "print(my_Dict['name'])"
   ]
  },
  {
   "cell_type": "code",
   "execution_count": 97,
   "id": "ca71be00-c170-445d-a9b4-31e0c1ef6aa6",
   "metadata": {},
   "outputs": [
    {
     "data": {
      "text/plain": [
       "29"
      ]
     },
     "execution_count": 97,
     "metadata": {},
     "output_type": "execute_result"
    }
   ],
   "source": [
    "my_Dict['Age']"
   ]
  },
  {
   "cell_type": "code",
   "execution_count": 98,
   "id": "1d335648-1595-415d-85bd-508e8fab1c15",
   "metadata": {},
   "outputs": [
    {
     "data": {
      "text/plain": [
       "29"
      ]
     },
     "execution_count": 98,
     "metadata": {},
     "output_type": "execute_result"
    }
   ],
   "source": [
    "my_Dict.get('Age')"
   ]
  },
  {
   "cell_type": "code",
   "execution_count": 99,
   "id": "12f10a0d-4c92-4ac4-b5be-3a3766af5612",
   "metadata": {},
   "outputs": [],
   "source": [
    "my_Dict['Age']=25"
   ]
  },
  {
   "cell_type": "code",
   "execution_count": 100,
   "id": "d17f1a58-8302-4d8b-8431-f79e178257a0",
   "metadata": {},
   "outputs": [
    {
     "data": {
      "text/plain": [
       "{'name': 'Abhay', 'Age': 25, 'Address': 'INDIA'}"
      ]
     },
     "execution_count": 100,
     "metadata": {},
     "output_type": "execute_result"
    }
   ],
   "source": [
    "my_Dict"
   ]
  },
  {
   "cell_type": "code",
   "execution_count": 101,
   "id": "2ed433be-4baa-4649-a633-ad1c2c073cdc",
   "metadata": {},
   "outputs": [],
   "source": [
    "del my_Dict['name']"
   ]
  },
  {
   "cell_type": "code",
   "execution_count": 102,
   "id": "1b53c4e1-2796-406c-8f40-034dfb2d09a9",
   "metadata": {},
   "outputs": [
    {
     "data": {
      "text/plain": [
       "{'Age': 25, 'Address': 'INDIA'}"
      ]
     },
     "execution_count": 102,
     "metadata": {},
     "output_type": "execute_result"
    }
   ],
   "source": [
    "my_Dict"
   ]
  },
  {
   "cell_type": "code",
   "execution_count": 103,
   "id": "b9586800-8779-44a3-afe7-4a75112d3957",
   "metadata": {},
   "outputs": [
    {
     "data": {
      "text/plain": [
       "dict_keys(['Age', 'Address'])"
      ]
     },
     "execution_count": 103,
     "metadata": {},
     "output_type": "execute_result"
    }
   ],
   "source": [
    "my_Dict.keys()"
   ]
  },
  {
   "cell_type": "code",
   "execution_count": 104,
   "id": "ddc0b274-2078-4647-ae36-3e4780f59956",
   "metadata": {},
   "outputs": [
    {
     "data": {
      "text/plain": [
       "dict_values([25, 'INDIA'])"
      ]
     },
     "execution_count": 104,
     "metadata": {},
     "output_type": "execute_result"
    }
   ],
   "source": [
    "my_Dict.values()"
   ]
  },
  {
   "cell_type": "code",
   "execution_count": 105,
   "id": "b538e529-434b-4c46-a860-11304f21b26b",
   "metadata": {},
   "outputs": [
    {
     "data": {
      "text/plain": [
       "dict_items([('Age', 25), ('Address', 'INDIA')])"
      ]
     },
     "execution_count": 105,
     "metadata": {},
     "output_type": "execute_result"
    }
   ],
   "source": [
    "my_Dict.items()"
   ]
  },
  {
   "cell_type": "code",
   "execution_count": 109,
   "id": "2a739ef6-7b4b-4222-b8e6-74a340e2e4da",
   "metadata": {},
   "outputs": [
    {
     "name": "stdout",
     "output_type": "stream",
     "text": [
      "True\n"
     ]
    }
   ],
   "source": [
    "print('Age' in my_Dict)"
   ]
  },
  {
   "cell_type": "code",
   "execution_count": 127,
   "id": "a0994b89-535b-4ac4-bcc3-f4907feee38a",
   "metadata": {},
   "outputs": [],
   "source": [
    "A=[1,2,3,4,5]\n",
    "B=['Abhay','Komal','Pramod','Sarla','Sia']"
   ]
  },
  {
   "cell_type": "code",
   "execution_count": 128,
   "id": "1496a1a9-efc3-4e91-b5ab-a7322e5c20d5",
   "metadata": {},
   "outputs": [],
   "source": [
    "new_dict=zip(A,B)"
   ]
  },
  {
   "cell_type": "code",
   "execution_count": 129,
   "id": "78239297-6940-4585-9f6d-930e3b78864c",
   "metadata": {},
   "outputs": [
    {
     "name": "stdout",
     "output_type": "stream",
     "text": [
      "<zip object at 0x000002C29071A1C0>\n"
     ]
    }
   ],
   "source": [
    "print(new_dict)"
   ]
  },
  {
   "cell_type": "code",
   "execution_count": 145,
   "id": "044875b0-c1bb-4e43-85b6-dd6c503a2629",
   "metadata": {},
   "outputs": [],
   "source": [
    "class Person:\n",
    "    def __init__(self,name,age):\n",
    "        self.name=name\n",
    "        self.age=age\n",
    "\n",
    "    def greet(self):\n",
    "        print(f\"Hello, my name is {self.name} and I am {self.age} years old.\")\n",
    "    \n"
   ]
  },
  {
   "cell_type": "code",
   "execution_count": 146,
   "id": "b9d42a85-fa8b-4e5b-af9d-79439705a33c",
   "metadata": {},
   "outputs": [],
   "source": [
    "person1 = Person(\"Alice\", 30)"
   ]
  },
  {
   "cell_type": "code",
   "execution_count": 147,
   "id": "e6129613-0c3a-4fc3-a86b-1120d9a765e1",
   "metadata": {},
   "outputs": [
    {
     "name": "stdout",
     "output_type": "stream",
     "text": [
      "Hello, my name is Alice and I am 30 years old.\n"
     ]
    }
   ],
   "source": [
    "person1.greet()"
   ]
  },
  {
   "cell_type": "code",
   "execution_count": 148,
   "id": "88dc5b34-1ba0-4ca7-a4f4-e8c1a1b18471",
   "metadata": {},
   "outputs": [
    {
     "data": {
      "text/plain": [
       "__main__.Person"
      ]
     },
     "execution_count": 148,
     "metadata": {},
     "output_type": "execute_result"
    }
   ],
   "source": [
    "type(person1)"
   ]
  },
  {
   "cell_type": "code",
   "execution_count": null,
   "id": "60682243-8724-4f7c-a1d2-77718ca84990",
   "metadata": {},
   "outputs": [],
   "source": []
  },
  {
   "cell_type": "code",
   "execution_count": 149,
   "id": "9fc1122e-7da5-4a30-9add-838629882ab1",
   "metadata": {},
   "outputs": [
    {
     "data": {
      "text/plain": [
       "[8, 7, 1, 2, 5, 6, 9]"
      ]
     },
     "execution_count": 149,
     "metadata": {},
     "output_type": "execute_result"
    }
   ],
   "source": [
    "my_list"
   ]
  },
  {
   "cell_type": "code",
   "execution_count": 151,
   "id": "c40ffe8c-ef31-45e7-8636-087bff54faf4",
   "metadata": {},
   "outputs": [],
   "source": [
    "my_list_copy=my_list"
   ]
  },
  {
   "cell_type": "code",
   "execution_count": 152,
   "id": "6a2f7915-4ab4-41cb-bd69-0b84dc58f8c4",
   "metadata": {},
   "outputs": [
    {
     "data": {
      "text/plain": [
       "[8, 7, 1, 2, 5, 6, 9]"
      ]
     },
     "execution_count": 152,
     "metadata": {},
     "output_type": "execute_result"
    }
   ],
   "source": [
    "my_list_copy"
   ]
  },
  {
   "cell_type": "code",
   "execution_count": 153,
   "id": "dd062875-e86d-47df-a7b4-f1bba1853836",
   "metadata": {},
   "outputs": [],
   "source": [
    "my_list_copy.remove(9)"
   ]
  },
  {
   "cell_type": "code",
   "execution_count": 154,
   "id": "6d10acdb-804a-4bf3-8c82-257980b3b118",
   "metadata": {},
   "outputs": [
    {
     "data": {
      "text/plain": [
       "[8, 7, 1, 2, 5, 6]"
      ]
     },
     "execution_count": 154,
     "metadata": {},
     "output_type": "execute_result"
    }
   ],
   "source": [
    "my_list"
   ]
  },
  {
   "cell_type": "code",
   "execution_count": 156,
   "id": "493e5003-7c43-4986-93ed-a06ddfb05fbb",
   "metadata": {},
   "outputs": [],
   "source": [
    "my_list_copy3=my_list.copy()"
   ]
  },
  {
   "cell_type": "code",
   "execution_count": 157,
   "id": "0dbd3936-ceb6-4af9-ad72-ed64c7efc811",
   "metadata": {},
   "outputs": [],
   "source": [
    "my_list_copy3.remove(8)"
   ]
  },
  {
   "cell_type": "code",
   "execution_count": 158,
   "id": "1e0729bb-11a2-4b09-893f-cc12a2ca15aa",
   "metadata": {},
   "outputs": [
    {
     "data": {
      "text/plain": [
       "[7, 1, 2, 5, 6]"
      ]
     },
     "execution_count": 158,
     "metadata": {},
     "output_type": "execute_result"
    }
   ],
   "source": [
    "my_list_copy3"
   ]
  },
  {
   "cell_type": "code",
   "execution_count": 159,
   "id": "093de801-8527-451c-8ebb-dd04022c4050",
   "metadata": {},
   "outputs": [
    {
     "data": {
      "text/plain": [
       "[8, 7, 1, 2, 5, 6]"
      ]
     },
     "execution_count": 159,
     "metadata": {},
     "output_type": "execute_result"
    }
   ],
   "source": [
    "my_list"
   ]
  },
  {
   "cell_type": "code",
   "execution_count": 160,
   "id": "ca12d4d0-6ef4-46f1-85ec-402b53609bf0",
   "metadata": {},
   "outputs": [],
   "source": [
    "import os"
   ]
  },
  {
   "cell_type": "code",
   "execution_count": 161,
   "id": "6e7bf933-f1d1-4fd5-94ca-d28e4b281c92",
   "metadata": {},
   "outputs": [
    {
     "data": {
      "text/plain": [
       "'C:\\\\Users\\\\admin'"
      ]
     },
     "execution_count": 161,
     "metadata": {},
     "output_type": "execute_result"
    }
   ],
   "source": [
    "os.getcwd()"
   ]
  },
  {
   "cell_type": "code",
   "execution_count": null,
   "id": "d421e818-9886-4563-bebf-9fd202c21e47",
   "metadata": {},
   "outputs": [],
   "source": []
  }
 ],
 "metadata": {
  "kernelspec": {
   "display_name": "Python 3 (ipykernel)",
   "language": "python",
   "name": "python3"
  },
  "language_info": {
   "codemirror_mode": {
    "name": "ipython",
    "version": 3
   },
   "file_extension": ".py",
   "mimetype": "text/x-python",
   "name": "python",
   "nbconvert_exporter": "python",
   "pygments_lexer": "ipython3",
   "version": "3.11.3"
  }
 },
 "nbformat": 4,
 "nbformat_minor": 5
}
