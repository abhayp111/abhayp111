{
 "cells": [
  {
   "cell_type": "code",
   "execution_count": 2,
   "metadata": {},
   "outputs": [],
   "source": [
    "import numpy as np"
   ]
  },
  {
   "cell_type": "code",
   "execution_count": 8,
   "metadata": {},
   "outputs": [],
   "source": [
    "arr1=np.array([[1,2],[2,3],[5,6]])\n",
    "arr2=np.array([[6,8],[5,4],[5,6]])"
   ]
  },
  {
   "cell_type": "code",
   "execution_count": 9,
   "metadata": {},
   "outputs": [
    {
     "data": {
      "text/plain": [
       "numpy.ndarray"
      ]
     },
     "execution_count": 9,
     "metadata": {},
     "output_type": "execute_result"
    }
   ],
   "source": [
    "type(arr2)"
   ]
  },
  {
   "cell_type": "code",
   "execution_count": 10,
   "metadata": {},
   "outputs": [
    {
     "data": {
      "text/plain": [
       "array([[ 7, 10],\n",
       "       [ 7,  7],\n",
       "       [10, 12]])"
      ]
     },
     "execution_count": 10,
     "metadata": {},
     "output_type": "execute_result"
    }
   ],
   "source": [
    "arr1+arr2"
   ]
  },
  {
   "cell_type": "code",
   "execution_count": 13,
   "metadata": {},
   "outputs": [
    {
     "name": "stdout",
     "output_type": "stream",
     "text": [
      "[[ 0.84147098  0.90929743]\n",
      " [ 0.90929743  0.14112001]\n",
      " [-0.95892427 -0.2794155 ]]\n",
      "[[ 0.96017029 -0.14550003]\n",
      " [ 0.28366219 -0.65364362]\n",
      " [ 0.28366219  0.96017029]]\n"
     ]
    }
   ],
   "source": [
    "print(np.sin(arr1))\n",
    "print(np.cos(arr2))\n"
   ]
  },
  {
   "cell_type": "code",
   "execution_count": 14,
   "metadata": {},
   "outputs": [
    {
     "data": {
      "text/plain": [
       "np.int64(19)"
      ]
     },
     "execution_count": 14,
     "metadata": {},
     "output_type": "execute_result"
    }
   ],
   "source": [
    "np.sum(arr1)"
   ]
  },
  {
   "cell_type": "code",
   "execution_count": 15,
   "metadata": {},
   "outputs": [
    {
     "data": {
      "text/plain": [
       "np.float64(1.7716909687891083)"
      ]
     },
     "execution_count": 15,
     "metadata": {},
     "output_type": "execute_result"
    }
   ],
   "source": [
    "np.std(arr1)"
   ]
  },
  {
   "cell_type": "code",
   "execution_count": 16,
   "metadata": {},
   "outputs": [
    {
     "data": {
      "text/plain": [
       "np.float64(1.247219128924647)"
      ]
     },
     "execution_count": 16,
     "metadata": {},
     "output_type": "execute_result"
    }
   ],
   "source": [
    "np.std(arr2)"
   ]
  },
  {
   "cell_type": "code",
   "execution_count": 38,
   "metadata": {},
   "outputs": [],
   "source": [
    "a=np.delete(arr1,1,axis=0)\n",
    "b=np.delete(arr2,1,axis=0)"
   ]
  },
  {
   "cell_type": "code",
   "execution_count": 41,
   "metadata": {},
   "outputs": [
    {
     "name": "stdout",
     "output_type": "stream",
     "text": [
      "Angle in radians: 0.2257261285527342\n",
      "Angle in degrees: 12.933154491899135\n"
     ]
    }
   ],
   "source": [
    "\n",
    "import numpy as np\n",
    "\n",
    "# Two vectors\n",
    "a = np.array([1, 2, 3])\n",
    "b = np.array([4, 5, 6])\n",
    "\n",
    "# Dot product\n",
    "dot_prod = np.dot(a, b)\n",
    "\n",
    "# Norm (magnitude) of each vector\n",
    "norm_a = np.linalg.norm(a)\n",
    "norm_b = np.linalg.norm(b)\n",
    "\n",
    "# Compute cosine of the angle\n",
    "cos_theta = dot_prod / (norm_a * norm_b)\n",
    "\n",
    "# Now get angle in radians\n",
    "theta_rad = np.arccos(cos_theta)\n",
    "\n",
    "# Convert to degrees (optional)\n",
    "theta_deg = np.degrees(theta_rad)\n",
    "\n",
    "print(f\"Angle in radians: {theta_rad}\")\n",
    "print(f\"Angle in degrees: {theta_deg}\")\n"
   ]
  },
  {
   "cell_type": "code",
   "execution_count": 40,
   "metadata": {},
   "outputs": [
    {
     "data": {
      "text/html": [
       "<pre style=\"white-space:pre;overflow-x:auto;line-height:normal;font-family:Menlo,'DejaVu Sans Mono',consolas,'Courier New',monospace\">Manim Community <span style=\"color: #008000; text-decoration-color: #008000\">v0.19.0</span>\n",
       "\n",
       "</pre>\n"
      ],
      "text/plain": [
       "Manim Community \u001b[32mv0.\u001b[0m\u001b[32m19.0\u001b[0m\n",
       "\n"
      ]
     },
     "metadata": {},
     "output_type": "display_data"
    },
    {
     "name": "stderr",
     "output_type": "stream",
     "text": [
      "                                                                                 \r"
     ]
    },
    {
     "data": {
      "text/html": [
       "<video src=\"media/jupyter/VectorAngle@2025-06-21@22-21-57.mp4\" controls autoplay loop style=\"max-width: 60%;\"  >\n",
       "      Your browser does not support the <code>video</code> element.\n",
       "    </video>"
      ],
      "text/plain": [
       "<IPython.core.display.Video object>"
      ]
     },
     "metadata": {},
     "output_type": "display_data"
    }
   ],
   "source": [
    "%%manim -qm -v WARNING VectorAngle\n",
    "\n",
    "from manim import *\n",
    "import numpy as np\n",
    "\n",
    "class VectorAngle(Scene):\n",
    "    def construct(self):\n",
    "        # Axes for X-Y plane\n",
    "        axes = Axes(\n",
    "            x_range=[-1, 9, 1],\n",
    "            y_range=[-1, 3, 1],\n",
    "            axis_config={\"color\": GREY}\n",
    "        )\n",
    "        self.play(Create(axes))\n",
    "\n",
    "        # Define vectors in 2D\n",
    "        a = np.array([5, 9, 0])\n",
    "        b = np.array([8, 7, 0])\n",
    "\n",
    "        # Arrows from origin\n",
    "        vec_a = Arrow(ORIGIN, a, buff=0, color=BLUE)\n",
    "        vec_b = Arrow(ORIGIN, b, buff=0, color=GREEN)\n",
    "\n",
    "        self.play(Create(vec_a), Create(vec_b))\n",
    "\n",
    "        # Dot at vector heads\n",
    "        dot_a = Dot(a, color=BLUE).scale(0.8)\n",
    "        dot_b = Dot(b, color=GREEN).scale(0.8)\n",
    "\n",
    "        # Label with coordinates\n",
    "        label_a = MathTex(\"(1, 2)\").next_to(dot_a, RIGHT + UP, buff=0.2)\n",
    "        label_b = MathTex(\"(3, 5)\").next_to(dot_b, RIGHT + UP, buff=0.2)\n",
    "\n",
    "        self.play(FadeIn(dot_a), Write(label_a))\n",
    "        self.play(FadeIn(dot_b), Write(label_b))\n",
    "\n",
    "        # Calculate and show angle\n",
    "        dot_product = np.dot(a[:2], b[:2])\n",
    "        norm_a = np.linalg.norm(a[:2])\n",
    "        norm_b = np.linalg.norm(b[:2])\n",
    "        cos_theta = dot_product / (norm_a * norm_b)\n",
    "        angle_rad = np.arccos(cos_theta)\n",
    "        angle_deg = np.degrees(angle_rad)\n",
    "\n",
    "        angle_arc = Angle(vec_a, vec_b, radius=0.7, color=YELLOW)\n",
    "        angle_label = MathTex(f\"{angle_deg:.2f}^\\\\circ\").next_to(angle_arc, UP, buff=0.1)\n",
    "\n",
    "        self.play(Create(angle_arc), Write(angle_label))\n",
    "        self.wait(2)\n"
   ]
  },
  {
   "cell_type": "code",
   "execution_count": 58,
   "metadata": {},
   "outputs": [
    {
     "data": {
      "text/html": [
       "<pre style=\"white-space:pre;overflow-x:auto;line-height:normal;font-family:Menlo,'DejaVu Sans Mono',consolas,'Courier New',monospace\">Manim Community <span style=\"color: #008000; text-decoration-color: #008000\">v0.19.0</span>\n",
       "\n",
       "</pre>\n"
      ],
      "text/plain": [
       "Manim Community \u001b[32mv0.\u001b[0m\u001b[32m19.0\u001b[0m\n",
       "\n"
      ]
     },
     "metadata": {},
     "output_type": "display_data"
    },
    {
     "name": "stderr",
     "output_type": "stream",
     "text": [
      "                                                                                                                              \r"
     ]
    },
    {
     "name": "stdout",
     "output_type": "stream",
     "text": [
      "Best slope (m): 0.98000082\n",
      "Best intercept (c): 0.25999753999999997\n"
     ]
    },
    {
     "name": "stderr",
     "output_type": "stream",
     "text": [
      "                                                                                                        \r"
     ]
    },
    {
     "data": {
      "text/html": [
       "<video src=\"media/jupyter/LinearRegressionFull@2025-06-22@14-35-04.mp4\" controls autoplay loop style=\"max-width: 60%;\"  >\n",
       "      Your browser does not support the <code>video</code> element.\n",
       "    </video>"
      ],
      "text/plain": [
       "<IPython.core.display.Video object>"
      ]
     },
     "metadata": {},
     "output_type": "display_data"
    }
   ],
   "source": [
    "%%manim -qm -v WARNING LinearRegressionFull\n",
    "\n",
    "from manim import *\n",
    "import numpy as np\n",
    "\n",
    "class LinearRegressionFull(Scene):\n",
    "    def construct(self):\n",
    "\n",
    "        # 1. Title\n",
    "        title1 = Text(\"Welcome to part 2 of Linear Regression Made easy\")\n",
    "        self.play(Write(title1))\n",
    "        self.play(title1.animate.to_edge(UP))\n",
    "        self.play(FadeOut(title1))\n",
    "\n",
    "        # 2. Show equation y = mx + c\n",
    "        title = MathTex(\"y = mx + c\")\n",
    "        self.play(Write(title))\n",
    "        self.play(title.animate.to_edge(UP))\n",
    "\n",
    "        # 3. Axes\n",
    "        axes = Axes(\n",
    "            x_range=[0, 6], y_range=[0, 6],\n",
    "            x_length=6, y_length=4,\n",
    "            axis_config={\"include_numbers\": True}\n",
    "        ).to_edge(DOWN)\n",
    "        labels = axes.get_axis_labels(\"x\", \"y\")\n",
    "        self.play(Create(axes), Write(labels))\n",
    "\n",
    "        # 4. Sample data points\n",
    "        data_points = [(1, 2), (2, 2.5), (3, 3.3), (4, 4), (5, 4.2)]\n",
    "        dots = VGroup(*[Dot(axes.coords_to_point(x, y), color=YELLOW) for x, y in data_points])\n",
    "        self.play(FadeIn(dots))\n",
    "\n",
    "        # 5. Bad initial line\n",
    "        bad_line = axes.plot(lambda x: 0.5 * x + 1, color=BLUE)\n",
    "        self.play(Create(bad_line))\n",
    "        self.wait(1)\n",
    "\n",
    "        # 6. Error lines\n",
    "        error_lines = VGroup()\n",
    "        for x, y_actual in data_points:\n",
    "            y_pred = 0.5 * x + 1\n",
    "            err_line = DashedLine(\n",
    "                start=axes.coords_to_point(x, y_actual),\n",
    "                end=axes.coords_to_point(x, y_pred),\n",
    "                color=RED\n",
    "            )\n",
    "            error_lines.add(err_line)\n",
    "        self.play(Create(error_lines))\n",
    "\n",
    "        # 7. Cost function formula\n",
    "        cost_formula = MathTex(\"J(m) = \\\\frac{1}{n} \\\\sum (y_{pred} - y)^2\").next_to(axes, DOWN)\n",
    "        self.play(Write(cost_formula))\n",
    "        self.wait(1)\n",
    "\n",
    "        # 8. Cost Curve\n",
    "        self.clear()\n",
    "        title2 = MathTex(\"J(m) = \\\\text{Cost for different slopes}\").to_edge(UP)\n",
    "        self.play(Write(title2))\n",
    "\n",
    "        m_values = [i * 0.1 for i in range(-10, 21)]  # from -1.0 to 2.0\n",
    "\n",
    "        def compute_cost(m):\n",
    "            return sum([(m * x - y) ** 2 for x, y in data_points]) / len(data_points)\n",
    "\n",
    "        cost_values = [compute_cost(m) for m in m_values]\n",
    "\n",
    "        cost_axes = Axes(\n",
    "            x_range=[-1, 2, 0.5], y_range=[0, 5, 1],\n",
    "            x_length=8, y_length=4,\n",
    "            axis_config={\"include_numbers\": True}\n",
    "        ).to_edge(DOWN)\n",
    "\n",
    "        cost_graph = cost_axes.plot_line_graph(\n",
    "            x_values=m_values, y_values=cost_values,\n",
    "            add_vertex_dots=False, line_color=BLUE\n",
    "        )\n",
    "        m_label = cost_axes.get_x_axis_label(\"m\")\n",
    "        j_label = cost_axes.get_y_axis_label(\"J(m)\")\n",
    "        self.play(Create(cost_axes), Write(m_label), Write(j_label))\n",
    "        self.play(Create(cost_graph))\n",
    "        self.wait(1)\n",
    "\n",
    "        # 9. Gradient descent\n",
    "        slope = 1.8\n",
    "        dot = Dot(cost_axes.coords_to_point(slope, compute_cost(slope)), color=RED)\n",
    "        self.play(FadeIn(dot))\n",
    "\n",
    "        learning_rate = 0.05  # lowered to prevent divergence\n",
    "        for _ in range(6):\n",
    "            grad = self.compute_gradient(slope, data_points)\n",
    "            slope -= learning_rate * grad\n",
    "            new_pos = cost_axes.coords_to_point(slope, compute_cost(slope))\n",
    "            self.play(dot.animate.move_to(new_pos), run_time=0.5)\n",
    "\n",
    "        self.wait(1)\n",
    "\n",
    "        # 10. Final line after learning\n",
    "        self.clear()\n",
    "        final_title = MathTex(\"y = mx + c \\\\quad \\\\text{(after learning)}\").to_edge(UP)\n",
    "        self.play(Write(final_title))\n",
    "\n",
    "        final_axes = Axes(\n",
    "            x_range=[0, 6], y_range=[0, 6],\n",
    "            x_length=6, y_length=4,\n",
    "            axis_config={\"include_numbers\": True}\n",
    "        ).to_edge(DOWN)\n",
    "        labels = final_axes.get_axis_labels(\"x\", \"y\")\n",
    "        self.play(Create(final_axes), Write(labels))\n",
    "\n",
    "        final_dots = VGroup(*[Dot(final_axes.coords_to_point(x, y), color=YELLOW) for x, y in data_points])\n",
    "        self.play(FadeIn(final_dots))\n",
    "\n",
    "        # 11. Final learned line\n",
    "        best_m = slope\n",
    "        best_c = self.compute_best_c(best_m, data_points)\n",
    "\n",
    "        # Print for debugging\n",
    "        print(f\"Best slope (m): {best_m}\")\n",
    "        print(f\"Best intercept (c): {best_c}\")\n",
    "\n",
    "        final_line = final_axes.plot(\n",
    "            lambda x: best_m * x + best_c,\n",
    "            color=GREEN\n",
    "        )\n",
    "        self.play(Create(final_line))\n",
    "\n",
    "        # Optional: show the equation\n",
    "        equation = MathTex(f\"y = {round(best_m, 2)}x + {round(best_c, 2)}\")\n",
    "        equation.next_to(final_line, UP)\n",
    "        self.play(Write(equation))\n",
    "\n",
    "        self.wait(2)\n",
    "\n",
    "        self.play(FadeOut(final_title, final_dots, final_line, equation,final_axes,labels))\n",
    "\n",
    "        greet=Text(\"Thank you for watching!\").to_edge()\n",
    "        self.play(Write(greet))\n",
    "        self.wait(2)\n",
    "        self.play(FadeOut(greet))\n",
    "\n",
    "    def compute_gradient(self, m, points):\n",
    "        n = len(points)\n",
    "        grad = sum([2 * x * (m * x - y) for x, y in points]) / n\n",
    "        return grad\n",
    "\n",
    "    def compute_best_c(self, m, points):\n",
    "        residuals = [y - m * x for x, y in points]\n",
    "        return sum(residuals) / len(residuals)\n"
   ]
  },
  {
   "cell_type": "code",
   "execution_count": null,
   "metadata": {},
   "outputs": [],
   "source": []
  }
 ],
 "metadata": {
  "kernelspec": {
   "display_name": "MysteryMuse",
   "language": "python",
   "name": "python3"
  },
  "language_info": {
   "codemirror_mode": {
    "name": "ipython",
    "version": 3
   },
   "file_extension": ".py",
   "mimetype": "text/x-python",
   "name": "python",
   "nbconvert_exporter": "python",
   "pygments_lexer": "ipython3",
   "version": "3.13.4"
  }
 },
 "nbformat": 4,
 "nbformat_minor": 2
}
