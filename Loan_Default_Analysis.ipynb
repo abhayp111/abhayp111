{
 "cells": [
  {
   "cell_type": "code",
   "execution_count": 2,
   "id": "98460a96-1cc3-45fe-82ef-f98e4339a55c",
   "metadata": {},
   "outputs": [
    {
     "name": "stdout",
     "output_type": "stream",
     "text": [
      "Warning: Looks like you're using an outdated `kagglehub` version (installed: 0.3.10), please consider upgrading to the latest version (0.3.11).\n",
      "Downloading from https://www.kaggle.com/api/v1/datasets/download/wordsforthewise/lending-club?dataset_version_number=3...\n"
     ]
    },
    {
     "name": "stderr",
     "output_type": "stream",
     "text": [
      "100%|████████████████████████████████████████████████████████████████████████████████████████████████████████████████████████████████████████████████████████████████| 1.26G/1.26G [03:51<00:00, 5.87MB/s]"
     ]
    },
    {
     "name": "stdout",
     "output_type": "stream",
     "text": [
      "Extracting files...\n"
     ]
    },
    {
     "name": "stderr",
     "output_type": "stream",
     "text": [
      "\n"
     ]
    },
    {
     "name": "stdout",
     "output_type": "stream",
     "text": [
      "Path to dataset files: /Users/abhaypratapsingh/.cache/kagglehub/datasets/wordsforthewise/lending-club/versions/3\n"
     ]
    }
   ],
   "source": [
    "import kagglehub\n",
    "\n",
    "# Download latest version\n",
    "path = kagglehub.dataset_download(\"wordsforthewise/lending-club\")\n",
    "\n",
    "print(\"Path to dataset files:\", path)"
   ]
  },
  {
   "cell_type": "code",
   "execution_count": 2,
   "id": "845077af-cb78-423a-9793-e3819570a8ab",
   "metadata": {},
   "outputs": [],
   "source": [
    "##Python Core Utility Modules\n",
    "\n",
    "import os\n",
    "import sys"
   ]
  },
  {
   "cell_type": "code",
   "execution_count": 3,
   "id": "0f8722aa-ce3f-41f9-86c9-7a51d7382c5e",
   "metadata": {},
   "outputs": [],
   "source": [
    "##Analysis Libraries\n",
    "\n",
    "import pandas as pd\n",
    "import numpy as np"
   ]
  },
  {
   "cell_type": "code",
   "execution_count": 4,
   "id": "453a0806-e539-41b4-a358-7ae87a90673f",
   "metadata": {},
   "outputs": [],
   "source": [
    "## ML Libraries\n",
    "\n",
    "from sklearn.model_selection import train_test_split\n",
    "from sklearn import svm\n",
    "from sklearn.preprocessing import LabelEncoder,StandardScaler\n",
    "from sklearn.svm import SVC\n",
    "from sklearn.metrics import accuracy_score, classification_report, confusion_matrix\n",
    "from sklearn.linear_model import LogisticRegression\n",
    "from sklearn.metrics import roc_auc_score, roc_curve\n",
    "import matplotlib.pyplot as plt"
   ]
  },
  {
   "cell_type": "code",
   "execution_count": null,
   "id": "e82f87f5-19a6-427d-bf4d-0e6ba2a1bfe5",
   "metadata": {},
   "outputs": [],
   "source": []
  },
  {
   "cell_type": "code",
   "execution_count": 5,
   "id": "95eca980-b87f-4dcb-8886-2a99225b4111",
   "metadata": {},
   "outputs": [],
   "source": [
    "#2260701"
   ]
  },
  {
   "cell_type": "code",
   "execution_count": 6,
   "id": "1123aca1-c150-4858-8260-72814925aaf0",
   "metadata": {},
   "outputs": [],
   "source": [
    "#os.remove(path+'/'+'rejected_2007_to_2018Q4.csv.gz')\n",
    "#os.remove(path+'/'+'accepted_2007_to_2018Q4.csv.gz')"
   ]
  },
  {
   "cell_type": "code",
   "execution_count": 7,
   "id": "2ccb4ba8-b7a9-4203-ab75-3d3117d8e811",
   "metadata": {},
   "outputs": [
    {
     "name": "stderr",
     "output_type": "stream",
     "text": [
      "/var/folders/8y/pr6d07_x5rdgsfmfspvr1d300000gn/T/ipykernel_64147/1281624312.py:1: DtypeWarning: Columns (0,19,49,59,118,129,130,131,134,135,136,139,145,146,147) have mixed types. Specify dtype option on import or set low_memory=False.\n",
      "  df=pd.read_csv('/Users/abhaypratapsingh/.cache/kagglehub/datasets/wordsforthewise/lending-club/versions/3/accepted_2007_to_2018q4.csv')\n"
     ]
    }
   ],
   "source": [
    "df=pd.read_csv('/Users/abhaypratapsingh/.cache/kagglehub/datasets/wordsforthewise/lending-club/versions/3/accepted_2007_to_2018q4.csv')"
   ]
  },
  {
   "cell_type": "code",
   "execution_count": 8,
   "id": "53b0571f-e40e-48ae-8ace-8063a0677d43",
   "metadata": {},
   "outputs": [],
   "source": [
    "df2=pd.read_csv('/Users/abhaypratapsingh/.cache/kagglehub/datasets/wordsforthewise/lending-club/versions/3/rejected_2007_to_2018Q4.csv')"
   ]
  },
  {
   "cell_type": "code",
   "execution_count": 9,
   "id": "70d0ff54-0b3e-42b0-9a65-3625c28c45b6",
   "metadata": {},
   "outputs": [
    {
     "data": {
      "text/plain": [
       "<bound method DataFrame.info of                                                        id  member_id  \\\n",
       "0                                                68407277        NaN   \n",
       "1                                                68355089        NaN   \n",
       "2                                                68341763        NaN   \n",
       "3                                                66310712        NaN   \n",
       "4                                                68476807        NaN   \n",
       "...                                                   ...        ...   \n",
       "2260696                                          88985880        NaN   \n",
       "2260697                                          88224441        NaN   \n",
       "2260698                                          88215728        NaN   \n",
       "2260699  Total amount funded in policy code 1: 1465324575        NaN   \n",
       "2260700   Total amount funded in policy code 2: 521953170        NaN   \n",
       "\n",
       "         loan_amnt  funded_amnt  funded_amnt_inv        term  int_rate  \\\n",
       "0           3600.0       3600.0           3600.0   36 months     13.99   \n",
       "1          24700.0      24700.0          24700.0   36 months     11.99   \n",
       "2          20000.0      20000.0          20000.0   60 months     10.78   \n",
       "3          35000.0      35000.0          35000.0   60 months     14.85   \n",
       "4          10400.0      10400.0          10400.0   60 months     22.45   \n",
       "...            ...          ...              ...         ...       ...   \n",
       "2260696    40000.0      40000.0          40000.0   60 months     10.49   \n",
       "2260697    24000.0      24000.0          24000.0   60 months     14.49   \n",
       "2260698    14000.0      14000.0          14000.0   60 months     14.49   \n",
       "2260699        NaN          NaN              NaN         NaN       NaN   \n",
       "2260700        NaN          NaN              NaN         NaN       NaN   \n",
       "\n",
       "         installment grade sub_grade  ... hardship_payoff_balance_amount  \\\n",
       "0             123.03     C        C4  ...                            NaN   \n",
       "1             820.28     C        C1  ...                            NaN   \n",
       "2             432.66     B        B4  ...                            NaN   \n",
       "3             829.90     C        C5  ...                            NaN   \n",
       "4             289.91     F        F1  ...                            NaN   \n",
       "...              ...   ...       ...  ...                            ...   \n",
       "2260696       859.56     B        B3  ...                            NaN   \n",
       "2260697       564.56     C        C4  ...                            NaN   \n",
       "2260698       329.33     C        C4  ...                            NaN   \n",
       "2260699          NaN   NaN       NaN  ...                            NaN   \n",
       "2260700          NaN   NaN       NaN  ...                            NaN   \n",
       "\n",
       "        hardship_last_payment_amount disbursement_method  \\\n",
       "0                                NaN                Cash   \n",
       "1                                NaN                Cash   \n",
       "2                                NaN                Cash   \n",
       "3                                NaN                Cash   \n",
       "4                                NaN                Cash   \n",
       "...                              ...                 ...   \n",
       "2260696                          NaN                Cash   \n",
       "2260697                          NaN                Cash   \n",
       "2260698                          NaN                Cash   \n",
       "2260699                          NaN                 NaN   \n",
       "2260700                          NaN                 NaN   \n",
       "\n",
       "         debt_settlement_flag debt_settlement_flag_date settlement_status  \\\n",
       "0                           N                       NaN               NaN   \n",
       "1                           N                       NaN               NaN   \n",
       "2                           N                       NaN               NaN   \n",
       "3                           N                       NaN               NaN   \n",
       "4                           N                       NaN               NaN   \n",
       "...                       ...                       ...               ...   \n",
       "2260696                     N                       NaN               NaN   \n",
       "2260697                     Y                  Mar-2019            ACTIVE   \n",
       "2260698                     N                       NaN               NaN   \n",
       "2260699                   NaN                       NaN               NaN   \n",
       "2260700                   NaN                       NaN               NaN   \n",
       "\n",
       "        settlement_date settlement_amount settlement_percentage  \\\n",
       "0                   NaN               NaN                   NaN   \n",
       "1                   NaN               NaN                   NaN   \n",
       "2                   NaN               NaN                   NaN   \n",
       "3                   NaN               NaN                   NaN   \n",
       "4                   NaN               NaN                   NaN   \n",
       "...                 ...               ...                   ...   \n",
       "2260696             NaN               NaN                   NaN   \n",
       "2260697        Mar-2019           10000.0                 44.82   \n",
       "2260698             NaN               NaN                   NaN   \n",
       "2260699             NaN               NaN                   NaN   \n",
       "2260700             NaN               NaN                   NaN   \n",
       "\n",
       "        settlement_term  \n",
       "0                   NaN  \n",
       "1                   NaN  \n",
       "2                   NaN  \n",
       "3                   NaN  \n",
       "4                   NaN  \n",
       "...                 ...  \n",
       "2260696             NaN  \n",
       "2260697             1.0  \n",
       "2260698             NaN  \n",
       "2260699             NaN  \n",
       "2260700             NaN  \n",
       "\n",
       "[2260701 rows x 151 columns]>"
      ]
     },
     "execution_count": 9,
     "metadata": {},
     "output_type": "execute_result"
    }
   ],
   "source": [
    "df.info"
   ]
  },
  {
   "cell_type": "code",
   "execution_count": 10,
   "id": "54947f45-d3b8-472e-9190-6b53c3bb856e",
   "metadata": {},
   "outputs": [
    {
     "data": {
      "text/plain": [
       "Index(['Amount Requested', 'Application Date', 'Loan Title', 'Risk_Score',\n",
       "       'Debt-To-Income Ratio', 'Zip Code', 'State', 'Employment Length',\n",
       "       'Policy Code'],\n",
       "      dtype='object')"
      ]
     },
     "execution_count": 10,
     "metadata": {},
     "output_type": "execute_result"
    }
   ],
   "source": [
    "df2.columns"
   ]
  },
  {
   "cell_type": "code",
   "execution_count": 11,
   "id": "22525354-3df8-4a7c-bd22-e98cabc63317",
   "metadata": {},
   "outputs": [
    {
     "data": {
      "text/plain": [
       "<Axes: xlabel='loan_status'>"
      ]
     },
     "execution_count": 11,
     "metadata": {},
     "output_type": "execute_result"
    },
    {
     "data": {
      "image/png": "[encoded data removed]",
      "text/plain": [
       "<Figure size 640x480 with 1 Axes>"
      ]
     },
     "metadata": {},
     "output_type": "display_data"
    }
   ],
   "source": [
    "df['loan_status'].value_counts(normalize=True).plot(kind='bar')\n"
   ]
  },
  {
   "cell_type": "code",
   "execution_count": 12,
   "id": "abf6871f-b451-4a2b-b723-b8d0ce256cba",
   "metadata": {},
   "outputs": [
    {
     "data": {
      "text/plain": [
       "Index(['id', 'member_id', 'loan_amnt', 'funded_amnt', 'funded_amnt_inv',\n",
       "       'term', 'int_rate', 'installment', 'grade', 'sub_grade',\n",
       "       ...\n",
       "       'hardship_payoff_balance_amount', 'hardship_last_payment_amount',\n",
       "       'disbursement_method', 'debt_settlement_flag',\n",
       "       'debt_settlement_flag_date', 'settlement_status', 'settlement_date',\n",
       "       'settlement_amount', 'settlement_percentage', 'settlement_term'],\n",
       "      dtype='object', length=151)"
      ]
     },
     "execution_count": 12,
     "metadata": {},
     "output_type": "execute_result"
    }
   ],
   "source": [
    "df.columns"
   ]
  },
  {
   "cell_type": "code",
   "execution_count": 13,
   "id": "7f0742cd-a071-43dc-9583-8aa7c146ecec",
   "metadata": {},
   "outputs": [
    {
     "data": {
      "text/plain": [
       "Index(['id', 'member_id', 'loan_amnt', 'funded_amnt', 'funded_amnt_inv',\n",
       "       'term', 'int_rate', 'installment', 'grade', 'sub_grade',\n",
       "       ...\n",
       "       'hardship_payoff_balance_amount', 'hardship_last_payment_amount',\n",
       "       'disbursement_method', 'debt_settlement_flag',\n",
       "       'debt_settlement_flag_date', 'settlement_status', 'settlement_date',\n",
       "       'settlement_amount', 'settlement_percentage', 'settlement_term'],\n",
       "      dtype='object', length=151)"
      ]
     },
     "execution_count": 13,
     "metadata": {},
     "output_type": "execute_result"
    }
   ],
   "source": [
    "df.columns"
   ]
  },
  {
   "cell_type": "code",
   "execution_count": 14,
   "id": "b6bbac59-4ba3-406a-9055-fcbd78996f36",
   "metadata": {},
   "outputs": [],
   "source": [
    "def classify_features(df):\n",
    "    categorical=[]\n",
    "    non_categorical=[]\n",
    "    continuous=[]\n",
    "    discrete=[]\n",
    "\n",
    "    for column in df.columns:\n",
    "        if df[column].dtype=='object':\n",
    "            if df[column].nunique() < 10:\n",
    "                categorical.append(column)\n",
    "\n",
    "            else:\n",
    "                non_categorical.append(column)\n",
    "\n",
    "        if df[column].dtype in ['int64','float64','float32','int32']:\n",
    "            if df[column].nunique() < 30:\n",
    "                discrete.append(column)\n",
    "            else:\n",
    "                continuous.append(column)\n",
    "    return categorical,non_categorical,discrete,continuous"
   ]
  },
  {
   "cell_type": "code",
   "execution_count": 15,
   "id": "c0025d49-3d85-456c-9a98-94307f5b2bb0",
   "metadata": {},
   "outputs": [],
   "source": [
    "categorical_feat,non_categorical_feat,discrete_feat,continuous_feat=classify_features(df)"
   ]
  },
  {
   "cell_type": "code",
   "execution_count": 16,
   "id": "a171509c-d137-4dc6-b9f4-4a223cddb439",
   "metadata": {},
   "outputs": [
    {
     "name": "stdout",
     "output_type": "stream",
     "text": [
      "\u001b[1mcategorical_feat: ['term', 'grade', 'home_ownership', 'verification_status', 'loan_status', 'pymnt_plan', 'initial_list_status', 'application_type', 'verification_status_joint', 'hardship_flag', 'hardship_type', 'hardship_reason', 'hardship_status', 'hardship_loan_status', 'disbursement_method', 'debt_settlement_flag', 'settlement_status'] \n",
      "\n",
      "non_categorical_feat ['id', 'sub_grade', 'emp_title', 'emp_length', 'issue_d', 'url', 'desc', 'purpose', 'title', 'zip_code', 'addr_state', 'earliest_cr_line', 'last_pymnt_d', 'next_pymnt_d', 'last_credit_pull_d', 'sec_app_earliest_cr_line', 'hardship_start_date', 'hardship_end_date', 'payment_plan_start_date', 'debt_settlement_flag_date', 'settlement_date'] \n",
      "\n",
      "discrete_feat ['member_id', 'inq_last_6mths', 'collections_12_mths_ex_med', 'policy_code', 'acc_now_delinq', 'open_acc_6m', 'open_il_12m', 'open_rv_12m', 'chargeoff_within_12_mths', 'mths_since_recent_inq', 'num_tl_120dpd_2m', 'num_tl_30dpd', 'pub_rec_bankruptcies', 'sec_app_inq_last_6mths', 'sec_app_mort_acc', 'sec_app_chargeoff_within_12_mths', 'sec_app_collections_12_mths_ex_med', 'deferral_term', 'hardship_length'] \n",
      "\n",
      "continuous_feat ['loan_amnt', 'funded_amnt', 'funded_amnt_inv', 'int_rate', 'installment', 'annual_inc', 'dti', 'delinq_2yrs', 'fico_range_low', 'fico_range_high', 'mths_since_last_delinq', 'mths_since_last_record', 'open_acc', 'pub_rec', 'revol_bal', 'revol_util', 'total_acc', 'out_prncp', 'out_prncp_inv', 'total_pymnt', 'total_pymnt_inv', 'total_rec_prncp', 'total_rec_int', 'total_rec_late_fee', 'recoveries', 'collection_recovery_fee', 'last_pymnt_amnt', 'last_fico_range_high', 'last_fico_range_low', 'mths_since_last_major_derog', 'annual_inc_joint', 'dti_joint', 'tot_coll_amt', 'tot_cur_bal', 'open_act_il', 'open_il_24m', 'mths_since_rcnt_il', 'total_bal_il', 'il_util', 'open_rv_24m', 'max_bal_bc', 'all_util', 'total_rev_hi_lim', 'inq_fi', 'total_cu_tl', 'inq_last_12m', 'acc_open_past_24mths', 'avg_cur_bal', 'bc_open_to_buy', 'bc_util', 'delinq_amnt', 'mo_sin_old_il_acct', 'mo_sin_old_rev_tl_op', 'mo_sin_rcnt_rev_tl_op', 'mo_sin_rcnt_tl', 'mort_acc', 'mths_since_recent_bc', 'mths_since_recent_bc_dlq', 'mths_since_recent_revol_delinq', 'num_accts_ever_120_pd', 'num_actv_bc_tl', 'num_actv_rev_tl', 'num_bc_sats', 'num_bc_tl', 'num_il_tl', 'num_op_rev_tl', 'num_rev_accts', 'num_rev_tl_bal_gt_0', 'num_sats', 'num_tl_90g_dpd_24m', 'num_tl_op_past_12m', 'pct_tl_nvr_dlq', 'percent_bc_gt_75', 'tax_liens', 'tot_hi_cred_lim', 'total_bal_ex_mort', 'total_bc_limit', 'total_il_high_credit_limit', 'revol_bal_joint', 'sec_app_fico_range_low', 'sec_app_fico_range_high', 'sec_app_open_acc', 'sec_app_revol_util', 'sec_app_open_act_il', 'sec_app_num_rev_accts', 'sec_app_mths_since_last_major_derog', 'hardship_amount', 'hardship_dpd', 'orig_projected_additional_accrued_interest', 'hardship_payoff_balance_amount', 'hardship_last_payment_amount', 'settlement_amount', 'settlement_percentage', 'settlement_term'] \n",
      "\n"
     ]
    }
   ],
   "source": [
    "print('\\033[1mcategorical_feat:',categorical_feat,\"\\n\")\n",
    "print('non_categorical_feat',non_categorical_feat,\"\\n\")\n",
    "print('discrete_feat',discrete_feat,\"\\n\")\n",
    "print('continuous_feat',continuous_feat,\"\\n\")"
   ]
  },
  {
   "cell_type": "code",
   "execution_count": 17,
   "id": "7525de5c-9067-43c4-8114-38001c7af67f",
   "metadata": {},
   "outputs": [
    {
     "data": {
      "text/plain": [
       "0           Fully Paid\n",
       "1           Fully Paid\n",
       "2           Fully Paid\n",
       "3              Current\n",
       "4           Fully Paid\n",
       "              ...     \n",
       "2260696        Current\n",
       "2260697    Charged Off\n",
       "2260698        Current\n",
       "2260699            NaN\n",
       "2260700            NaN\n",
       "Name: loan_status, Length: 2260701, dtype: object"
      ]
     },
     "execution_count": 17,
     "metadata": {},
     "output_type": "execute_result"
    }
   ],
   "source": [
    "df['loan_status']"
   ]
  },
  {
   "cell_type": "code",
   "execution_count": 18,
   "id": "75602111-47ea-417a-a91f-656201be2c10",
   "metadata": {},
   "outputs": [],
   "source": [
    "df=df[df['loan_status'].isin(['Fully Paid', 'Charged Off', 'Default'])]"
   ]
  },
  {
   "cell_type": "code",
   "execution_count": 19,
   "id": "2a634e64-728e-4818-b138-b61bc74845ff",
   "metadata": {},
   "outputs": [
    {
     "data": {
      "text/plain": [
       "0           Fully Paid\n",
       "1           Fully Paid\n",
       "2           Fully Paid\n",
       "4           Fully Paid\n",
       "5           Fully Paid\n",
       "              ...     \n",
       "2260688     Fully Paid\n",
       "2260690     Fully Paid\n",
       "2260691    Charged Off\n",
       "2260692     Fully Paid\n",
       "2260697    Charged Off\n",
       "Name: loan_status, Length: 1345350, dtype: object"
      ]
     },
     "execution_count": 19,
     "metadata": {},
     "output_type": "execute_result"
    }
   ],
   "source": [
    "df['loan_status']"
   ]
  },
  {
   "cell_type": "code",
   "execution_count": 20,
   "id": "e4f174b9-9a7d-4af2-bbf1-18333aa837aa",
   "metadata": {},
   "outputs": [
    {
     "name": "stderr",
     "output_type": "stream",
     "text": [
      "/var/folders/8y/pr6d07_x5rdgsfmfspvr1d300000gn/T/ipykernel_64147/2705085077.py:2: SettingWithCopyWarning: \n",
      "A value is trying to be set on a copy of a slice from a DataFrame.\n",
      "Try using .loc[row_indexer,col_indexer] = value instead\n",
      "\n",
      "See the caveats in the documentation: https://pandas.pydata.org/pandas-docs/stable/user_guide/indexing.html#returning-a-view-versus-a-copy\n",
      "  df['loan_default'] = df['loan_status'].apply(lambda x: 1 if x in ['Charged Off', 'Default'] else 0)\n"
     ]
    }
   ],
   "source": [
    "# Combine 'Charged Off' and 'Default' as one class (1 = Defaulted)\n",
    "df['loan_default'] = df['loan_status'].apply(lambda x: 1 if x in ['Charged Off', 'Default'] else 0)"
   ]
  },
  {
   "cell_type": "code",
   "execution_count": 21,
   "id": "e4b5ff53-7d6c-43ad-8f49-32a710417d3a",
   "metadata": {},
   "outputs": [],
   "source": [
    "selected_features = [\n",
    "    'term', 'grade', 'home_ownership', 'verification_status', \n",
    "    'annual_inc', 'loan_amnt', 'int_rate', 'dti', \n",
    "    'purpose', 'emp_length', 'revol_util', 'fico_range_low', 'fico_range_high'\n",
    "]"
   ]
  },
  {
   "cell_type": "code",
   "execution_count": 22,
   "id": "15319930-b9b8-462b-b280-cb8bd8f057ba",
   "metadata": {},
   "outputs": [],
   "source": [
    "df = df[selected_features + ['loan_default']].copy()\n",
    "df.dropna(inplace=True)"
   ]
  },
  {
   "cell_type": "code",
   "execution_count": 23,
   "id": "85d2e0ba-f801-4431-87db-12f2d1c3fc9d",
   "metadata": {},
   "outputs": [
    {
     "data": {
      "text/html": [
       "<div>\n",
       "<style scoped>\n",
       "    .dataframe tbody tr th:only-of-type {\n",
       "        vertical-align: middle;\n",
       "    }\n",
       "\n",
       "    .dataframe tbody tr th {\n",
       "        vertical-align: top;\n",
       "    }\n",
       "\n",
       "    .dataframe thead th {\n",
       "        text-align: right;\n",
       "    }\n",
       "</style>\n",
       "<table border=\"1\" class=\"dataframe\">\n",
       "  <thead>\n",
       "    <tr style=\"text-align: right;\">\n",
       "      <th></th>\n",
       "      <th>term</th>\n",
       "      <th>grade</th>\n",
       "      <th>home_ownership</th>\n",
       "      <th>verification_status</th>\n",
       "      <th>annual_inc</th>\n",
       "      <th>loan_amnt</th>\n",
       "      <th>int_rate</th>\n",
       "      <th>dti</th>\n",
       "      <th>purpose</th>\n",
       "      <th>emp_length</th>\n",
       "      <th>revol_util</th>\n",
       "      <th>fico_range_low</th>\n",
       "      <th>fico_range_high</th>\n",
       "      <th>loan_default</th>\n",
       "    </tr>\n",
       "  </thead>\n",
       "  <tbody>\n",
       "    <tr>\n",
       "      <th>0</th>\n",
       "      <td>36 months</td>\n",
       "      <td>C</td>\n",
       "      <td>MORTGAGE</td>\n",
       "      <td>Not Verified</td>\n",
       "      <td>55000.0</td>\n",
       "      <td>3600.0</td>\n",
       "      <td>13.99</td>\n",
       "      <td>5.91</td>\n",
       "      <td>debt_consolidation</td>\n",
       "      <td>10+ years</td>\n",
       "      <td>29.7</td>\n",
       "      <td>675.0</td>\n",
       "      <td>679.0</td>\n",
       "      <td>0</td>\n",
       "    </tr>\n",
       "    <tr>\n",
       "      <th>1</th>\n",
       "      <td>36 months</td>\n",
       "      <td>C</td>\n",
       "      <td>MORTGAGE</td>\n",
       "      <td>Not Verified</td>\n",
       "      <td>65000.0</td>\n",
       "      <td>24700.0</td>\n",
       "      <td>11.99</td>\n",
       "      <td>16.06</td>\n",
       "      <td>small_business</td>\n",
       "      <td>10+ years</td>\n",
       "      <td>19.2</td>\n",
       "      <td>715.0</td>\n",
       "      <td>719.0</td>\n",
       "      <td>0</td>\n",
       "    </tr>\n",
       "    <tr>\n",
       "      <th>2</th>\n",
       "      <td>60 months</td>\n",
       "      <td>B</td>\n",
       "      <td>MORTGAGE</td>\n",
       "      <td>Not Verified</td>\n",
       "      <td>63000.0</td>\n",
       "      <td>20000.0</td>\n",
       "      <td>10.78</td>\n",
       "      <td>10.78</td>\n",
       "      <td>home_improvement</td>\n",
       "      <td>10+ years</td>\n",
       "      <td>56.2</td>\n",
       "      <td>695.0</td>\n",
       "      <td>699.0</td>\n",
       "      <td>0</td>\n",
       "    </tr>\n",
       "    <tr>\n",
       "      <th>4</th>\n",
       "      <td>60 months</td>\n",
       "      <td>F</td>\n",
       "      <td>MORTGAGE</td>\n",
       "      <td>Source Verified</td>\n",
       "      <td>104433.0</td>\n",
       "      <td>10400.0</td>\n",
       "      <td>22.45</td>\n",
       "      <td>25.37</td>\n",
       "      <td>major_purchase</td>\n",
       "      <td>3 years</td>\n",
       "      <td>64.5</td>\n",
       "      <td>695.0</td>\n",
       "      <td>699.0</td>\n",
       "      <td>0</td>\n",
       "    </tr>\n",
       "    <tr>\n",
       "      <th>5</th>\n",
       "      <td>36 months</td>\n",
       "      <td>C</td>\n",
       "      <td>RENT</td>\n",
       "      <td>Source Verified</td>\n",
       "      <td>34000.0</td>\n",
       "      <td>11950.0</td>\n",
       "      <td>13.44</td>\n",
       "      <td>10.20</td>\n",
       "      <td>debt_consolidation</td>\n",
       "      <td>4 years</td>\n",
       "      <td>68.4</td>\n",
       "      <td>690.0</td>\n",
       "      <td>694.0</td>\n",
       "      <td>0</td>\n",
       "    </tr>\n",
       "    <tr>\n",
       "      <th>...</th>\n",
       "      <td>...</td>\n",
       "      <td>...</td>\n",
       "      <td>...</td>\n",
       "      <td>...</td>\n",
       "      <td>...</td>\n",
       "      <td>...</td>\n",
       "      <td>...</td>\n",
       "      <td>...</td>\n",
       "      <td>...</td>\n",
       "      <td>...</td>\n",
       "      <td>...</td>\n",
       "      <td>...</td>\n",
       "      <td>...</td>\n",
       "      <td>...</td>\n",
       "    </tr>\n",
       "    <tr>\n",
       "      <th>2260688</th>\n",
       "      <td>60 months</td>\n",
       "      <td>B</td>\n",
       "      <td>OWN</td>\n",
       "      <td>Not Verified</td>\n",
       "      <td>130000.0</td>\n",
       "      <td>18000.0</td>\n",
       "      <td>9.49</td>\n",
       "      <td>20.59</td>\n",
       "      <td>home_improvement</td>\n",
       "      <td>5 years</td>\n",
       "      <td>34.0</td>\n",
       "      <td>735.0</td>\n",
       "      <td>739.0</td>\n",
       "      <td>0</td>\n",
       "    </tr>\n",
       "    <tr>\n",
       "      <th>2260690</th>\n",
       "      <td>60 months</td>\n",
       "      <td>C</td>\n",
       "      <td>MORTGAGE</td>\n",
       "      <td>Not Verified</td>\n",
       "      <td>180792.0</td>\n",
       "      <td>29400.0</td>\n",
       "      <td>13.99</td>\n",
       "      <td>22.03</td>\n",
       "      <td>debt_consolidation</td>\n",
       "      <td>9 years</td>\n",
       "      <td>85.2</td>\n",
       "      <td>705.0</td>\n",
       "      <td>709.0</td>\n",
       "      <td>0</td>\n",
       "    </tr>\n",
       "    <tr>\n",
       "      <th>2260691</th>\n",
       "      <td>60 months</td>\n",
       "      <td>C</td>\n",
       "      <td>MORTGAGE</td>\n",
       "      <td>Source Verified</td>\n",
       "      <td>157000.0</td>\n",
       "      <td>32000.0</td>\n",
       "      <td>14.49</td>\n",
       "      <td>10.34</td>\n",
       "      <td>home_improvement</td>\n",
       "      <td>3 years</td>\n",
       "      <td>27.4</td>\n",
       "      <td>735.0</td>\n",
       "      <td>739.0</td>\n",
       "      <td>1</td>\n",
       "    </tr>\n",
       "    <tr>\n",
       "      <th>2260692</th>\n",
       "      <td>60 months</td>\n",
       "      <td>C</td>\n",
       "      <td>RENT</td>\n",
       "      <td>Not Verified</td>\n",
       "      <td>150000.0</td>\n",
       "      <td>16000.0</td>\n",
       "      <td>12.79</td>\n",
       "      <td>12.25</td>\n",
       "      <td>medical</td>\n",
       "      <td>10+ years</td>\n",
       "      <td>55.0</td>\n",
       "      <td>665.0</td>\n",
       "      <td>669.0</td>\n",
       "      <td>0</td>\n",
       "    </tr>\n",
       "    <tr>\n",
       "      <th>2260697</th>\n",
       "      <td>60 months</td>\n",
       "      <td>C</td>\n",
       "      <td>RENT</td>\n",
       "      <td>Not Verified</td>\n",
       "      <td>110000.0</td>\n",
       "      <td>24000.0</td>\n",
       "      <td>14.49</td>\n",
       "      <td>18.30</td>\n",
       "      <td>debt_consolidation</td>\n",
       "      <td>6 years</td>\n",
       "      <td>68.1</td>\n",
       "      <td>660.0</td>\n",
       "      <td>664.0</td>\n",
       "      <td>1</td>\n",
       "    </tr>\n",
       "  </tbody>\n",
       "</table>\n",
       "<p>1266011 rows × 14 columns</p>\n",
       "</div>"
      ],
      "text/plain": [
       "               term grade home_ownership verification_status  annual_inc  \\\n",
       "0         36 months     C       MORTGAGE        Not Verified     55000.0   \n",
       "1         36 months     C       MORTGAGE        Not Verified     65000.0   \n",
       "2         60 months     B       MORTGAGE        Not Verified     63000.0   \n",
       "4         60 months     F       MORTGAGE     Source Verified    104433.0   \n",
       "5         36 months     C           RENT     Source Verified     34000.0   \n",
       "...             ...   ...            ...                 ...         ...   \n",
       "2260688   60 months     B            OWN        Not Verified    130000.0   \n",
       "2260690   60 months     C       MORTGAGE        Not Verified    180792.0   \n",
       "2260691   60 months     C       MORTGAGE     Source Verified    157000.0   \n",
       "2260692   60 months     C           RENT        Not Verified    150000.0   \n",
       "2260697   60 months     C           RENT        Not Verified    110000.0   \n",
       "\n",
       "         loan_amnt  int_rate    dti             purpose emp_length  \\\n",
       "0           3600.0     13.99   5.91  debt_consolidation  10+ years   \n",
       "1          24700.0     11.99  16.06      small_business  10+ years   \n",
       "2          20000.0     10.78  10.78    home_improvement  10+ years   \n",
       "4          10400.0     22.45  25.37      major_purchase    3 years   \n",
       "5          11950.0     13.44  10.20  debt_consolidation    4 years   \n",
       "...            ...       ...    ...                 ...        ...   \n",
       "2260688    18000.0      9.49  20.59    home_improvement    5 years   \n",
       "2260690    29400.0     13.99  22.03  debt_consolidation    9 years   \n",
       "2260691    32000.0     14.49  10.34    home_improvement    3 years   \n",
       "2260692    16000.0     12.79  12.25             medical  10+ years   \n",
       "2260697    24000.0     14.49  18.30  debt_consolidation    6 years   \n",
       "\n",
       "         revol_util  fico_range_low  fico_range_high  loan_default  \n",
       "0              29.7           675.0            679.0             0  \n",
       "1              19.2           715.0            719.0             0  \n",
       "2              56.2           695.0            699.0             0  \n",
       "4              64.5           695.0            699.0             0  \n",
       "5              68.4           690.0            694.0             0  \n",
       "...             ...             ...              ...           ...  \n",
       "2260688        34.0           735.0            739.0             0  \n",
       "2260690        85.2           705.0            709.0             0  \n",
       "2260691        27.4           735.0            739.0             1  \n",
       "2260692        55.0           665.0            669.0             0  \n",
       "2260697        68.1           660.0            664.0             1  \n",
       "\n",
       "[1266011 rows x 14 columns]"
      ]
     },
     "execution_count": 23,
     "metadata": {},
     "output_type": "execute_result"
    }
   ],
   "source": [
    "df"
   ]
  },
  {
   "cell_type": "code",
   "execution_count": 24,
   "id": "2384408c-da17-4e8d-884c-363a73228aff",
   "metadata": {},
   "outputs": [],
   "source": [
    "for col in df.select_dtypes(include='object').columns:\n",
    "    df[col] = LabelEncoder().fit_transform(df[col])"
   ]
  },
  {
   "cell_type": "code",
   "execution_count": 25,
   "id": "57f9db3d-72e3-4b9c-8dcc-2593d353dd5a",
   "metadata": {},
   "outputs": [],
   "source": [
    "from sklearn.model_selection import train_test_split\n",
    "\n",
    "X = df.drop('loan_default', axis=1)\n",
    "y = df['loan_default']\n",
    "\n",
    "X_train, X_test, y_train, y_test = train_test_split(X, y, test_size=0.2, random_state=42, stratify=y)\n"
   ]
  },
  {
   "cell_type": "markdown",
   "id": "3d886e96-2c83-4799-bbac-12fea3ff580f",
   "metadata": {},
   "source": [
    "# Applying Logistics Regression#"
   ]
  },
  {
   "cell_type": "code",
   "execution_count": 26,
   "id": "722f9425-5a69-406f-9ac8-bc40282f06b5",
   "metadata": {},
   "outputs": [
    {
     "name": "stdout",
     "output_type": "stream",
     "text": [
      "[[200953   2791]\n",
      " [ 46451   3008]]\n",
      "              precision    recall  f1-score   support\n",
      "\n",
      "           0       0.81      0.99      0.89    203744\n",
      "           1       0.52      0.06      0.11     49459\n",
      "\n",
      "    accuracy                           0.81    253203\n",
      "   macro avg       0.67      0.52      0.50    253203\n",
      "weighted avg       0.75      0.81      0.74    253203\n",
      "\n"
     ]
    },
    {
     "name": "stderr",
     "output_type": "stream",
     "text": [
      "/Users/abhaypratapsingh/Documents/tensorflow-metal/lib/python3.9/site-packages/sklearn/linear_model/_logistic.py:465: ConvergenceWarning: lbfgs failed to converge (status=1):\n",
      "STOP: TOTAL NO. of ITERATIONS REACHED LIMIT.\n",
      "\n",
      "Increase the number of iterations (max_iter) or scale the data as shown in:\n",
      "    https://scikit-learn.org/stable/modules/preprocessing.html\n",
      "Please also refer to the documentation for alternative solver options:\n",
      "    https://scikit-learn.org/stable/modules/linear_model.html#logistic-regression\n",
      "  n_iter_i = _check_optimize_result(\n"
     ]
    }
   ],
   "source": [
    "\n",
    "\n",
    "clf = LogisticRegression(max_iter=1000)\n",
    "clf.fit(X_train, y_train)\n",
    "\n",
    "y_pred = clf.predict(X_test)\n",
    "\n",
    "print(confusion_matrix(y_test, y_pred))\n",
    "print(classification_report(y_test, y_pred))\n"
   ]
  },
  {
   "cell_type": "markdown",
   "id": "d91770b2-7e90-4480-bdca-86542a91c1bf",
   "metadata": {},
   "source": [
    "# Applying Support Vector Machine"
   ]
  },
  {
   "cell_type": "code",
   "execution_count": 27,
   "id": "8b9af1e4-aa8f-4cb3-bc33-b819743b5100",
   "metadata": {},
   "outputs": [],
   "source": [
    "\n",
    "\n",
    "#svm = SVC(kernel='linear', C=1.0)\n",
    "#svm.fit(X_train, y_train)\n",
    "#y_pred_svm = svm.predict(X_test)\n",
    "\n",
    "#print(confusion_matrix(y_test, y_pred_svm))\n",
    "#print(classification_report(y_test, y_pred_svm))\n"
   ]
  },
  {
   "cell_type": "code",
   "execution_count": 28,
   "id": "299845ca-fb64-4f6d-89c7-388c4e2e94a8",
   "metadata": {},
   "outputs": [
    {
     "data": {
      "image/png": "[encoded data removed]",
      "text/plain": [
       "<Figure size 640x480 with 1 Axes>"
      ]
     },
     "metadata": {},
     "output_type": "display_data"
    }
   ],
   "source": [
    "#Use accuracy, precision, recall, F1-score\n",
    "\n",
    "#You can also visualize ROC-AUC:\n",
    "\n",
    "y_proba = clf.predict_proba(X_test)[:, 1]\n",
    "fpr, tpr, _ = roc_curve(y_test, y_proba)\n",
    "\n",
    "plt.plot(fpr, tpr, label='ROC curve')\n",
    "plt.plot([0, 1], [0, 1], 'k--')\n",
    "plt.xlabel('False Positive Rate')\n",
    "plt.ylabel('True Positive Rate')\n",
    "plt.title('ROC Curve')\n",
    "plt.legend()\n",
    "plt.show()\n"
   ]
  },
  {
   "cell_type": "code",
   "execution_count": null,
   "id": "6c67dda8-49da-48f5-9fe1-d1a767c2aa80",
   "metadata": {},
   "outputs": [],
   "source": []
  },
  {
   "cell_type": "code",
   "execution_count": null,
   "id": "78c42eef-062a-4d64-b85f-fc940c7a40af",
   "metadata": {},
   "outputs": [],
   "source": []
  }
 ],
 "metadata": {
  "kernelspec": {
   "display_name": "Python 3 (ipykernel)",
   "language": "python",
   "name": "python3"
  },
  "language_info": {
   "codemirror_mode": {
    "name": "ipython",
    "version": 3
   },
   "file_extension": ".py",
   "mimetype": "text/x-python",
   "name": "python",
   "nbconvert_exporter": "python",
   "pygments_lexer": "ipython3",
   "version": "3.9.6"
  }
 },
 "nbformat": 4,
 "nbformat_minor": 5
}
